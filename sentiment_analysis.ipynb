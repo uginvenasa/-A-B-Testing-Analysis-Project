sentiment_analysis.ipynb


# Sentiment Analysis on Amazon Product Reviews

import pandas as pd
from textblob import TextBlob

# Load your dataset (rename the file if needed)
df = pd.read_csv("amazon_reviews.csv")

# Preview the column names
print("Columns:", df.columns)

# If 'reviews.text' or similar exists, use it
if 'reviews.text' in df.columns:
    review_col = 'reviews.text'
elif 'review_body' in df.columns:
    review_col = 'review_body'
else:
    raise ValueError("No recognizable review text column found!")

# Drop missing and take a small sample (optional)
df = df[[review_col]].dropna().head(100)  # Use more rows if you want

# Calculate sentiment score using TextBlob
df['Sentiment_Score'] = df[review_col].apply(lambda x: TextBlob(str(x)).sentiment.polarity)

# Convert to Positive / Neutral / Negative
def label_sentiment(score):
    if score > 0.1:
        return "Positive"
    elif score < -0.1:
        return "Negative"
    else:
        return "Neutral"

df['Sentiment_Label'] = df['Sentiment_Score'].apply(label_sentiment)

# Save the result
df.to_csv("sentiment_output.csv", index=False)

# Show sample result
print(df.head(10))
